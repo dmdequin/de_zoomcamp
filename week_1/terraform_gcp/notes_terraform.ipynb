{
 "cells": [
  {
   "cell_type": "markdown",
   "metadata": {},
   "source": [
    "# Terraform and GCP Notes"
   ]
  },
  {
   "cell_type": "markdown",
   "metadata": {},
   "source": [
    "## Terraform\n",
    "\n",
    "**Execution steps:**\n",
    "\n",
    "```terraform init```<br>\n",
    "Initializes & configures the backend, installs plugins/providers, & checks out an existing configuration from a version control<br>\n",
    "\n",
    "```terraform plan```<br>\n",
    "Matches/previews local changes against a remote state, and proposes an Execution Plan.<br>\n",
    "\n",
    "```terraform apply```<br>\n",
    "Asks for approval to the proposed plan, and applies changes to cloud<br>\n",
    "\n",
    "```terraform destroy```<br>\n",
    "Removes your stack from the Cloud<br>"
   ]
  },
  {
   "cell_type": "markdown",
   "metadata": {},
   "source": [
    "**After authenticating with GCP:**\n",
    "\n",
    "```bash\n",
    "# Initialize state file (.tfstate)\n",
    "terraform init\n",
    "\n",
    "# Check changes to new infra plan\n",
    "terraform plan # -var=\"project=data-engineering-410115\"\n",
    "\n",
    "# Create new infra\n",
    "terraform apply # -var=\"project=data-engineering-410115\"\n",
    "\n",
    "# Delete infra after your work, to avoid costs on any running services\n",
    "terraform destroy\n",
    "```"
   ]
  },
  {
   "cell_type": "markdown",
   "metadata": {},
   "source": [
    "## GCP\n",
    "\n",
    "**Project ID**: data-engineering-410115\n",
    "\n",
    "```bash\n",
    "# authenticate using GCP keys\n",
    "export GOOGLE_APPLICATION_CREDENTIALS=\"/mnt/c/Users/dmdeq/Desktop/dezc/de_zoomcamp/week_1/terraform_gcp/data-engineering-410115-d7069ed951df.json\"\n",
    "\n",
    "# refresh token, then login:\n",
    "gcloud auth application-default login\n",
    "\n",
    "# validate config\n",
    "gcloud config list\n",
    "```"
   ]
  },
  {
   "cell_type": "markdown",
   "metadata": {},
   "source": []
  }
 ],
 "metadata": {
  "language_info": {
   "name": "python"
  }
 },
 "nbformat": 4,
 "nbformat_minor": 2
}
