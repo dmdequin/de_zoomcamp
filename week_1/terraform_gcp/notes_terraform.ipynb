{
 "cells": [
  {
   "cell_type": "markdown",
   "metadata": {},
   "source": [
    "# Terraform and GCP Notes"
   ]
  },
  {
   "cell_type": "markdown",
   "metadata": {},
   "source": [
    "## Terraform\n",
    "\n",
    "Execution steps:<br>\n",
    "```terraform init```<br>\n",
    "Initializes & configures the backend, installs plugins/providers, & checks out an existing configuration from a version control<br>\n",
    "```terraform plan```<br>\n",
    "Matches/previews local changes against a remote state, and proposes an Execution Plan.<br>\n",
    "```terraform apply```<br>\n",
    "Asks for approval to the proposed plan, and applies changes to cloud<br>\n",
    "```terraform destroy```<br>\n",
    "Removes your stack from the Cloud<br>"
   ]
  },
  {
   "cell_type": "markdown",
   "metadata": {},
   "source": [
    "## GCP\n",
    "\n",
    "Project ID: data-engineering-410115\n",
    "\n",
    "```bash\n",
    "# authenticate using GCP keys\n",
    "export GOOGLE_APPLICATION_CREDENTIALS=\"/mnt/c/Users/dmdeq/Desktop/dezc/de_zoomcamp/week_1/terraform_gcp/data-engineering-410115-d7069ed951df.json\"\n",
    "\n",
    "# refresh token, then login:\n",
    "gcloud auth application-default login\n",
    "```\n",
    "\n",
    "```bash\n",
    "# authenticate with account and choose a project\n",
    "gcloud init\n",
    "\n",
    "# activate account\n",
    "gcloud auth activate-service-account sa-name-dezc@data-engineering-410115.iam.gserviceaccount.com --key-file=data-engineering-410115-d7069ed951df.json\n",
    "\n",
    "# validate config\n",
    "gcloud config list\n",
    "```"
   ]
  },
  {
   "cell_type": "markdown",
   "metadata": {},
   "source": []
  }
 ],
 "metadata": {
  "language_info": {
   "name": "python"
  }
 },
 "nbformat": 4,
 "nbformat_minor": 2
}
