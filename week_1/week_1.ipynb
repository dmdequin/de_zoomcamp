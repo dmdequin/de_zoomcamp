{
 "cells": [
  {
   "cell_type": "markdown",
   "id": "8823666b",
   "metadata": {},
   "source": [
    "# Week 1 Notes"
   ]
  },
  {
   "cell_type": "markdown",
   "id": "08f82abb",
   "metadata": {},
   "source": [
    "## Running Docker Containers\n",
    "\n",
    "Run a docker container with an ubuntu env:<br>\n",
    "````docker run -it ubuntu bash````\n",
    "\n",
    "Run a docker container with an interactive terminal python env:<br>\n",
    "```docker run -it python:3.9```\n",
    "\n",
    "Same, but with entrypoint as bash:<br>\n",
    "```docker run -it --entrypoint=bash  python:3.9```\n",
    "\n",
    "Once there, you can ```pip install pandas``` or whatever packages are needed.\n",
    "\n",
    "However, installation steps will have to be repeated, as each time the container is spun up it starts from scratch."
   ]
  },
  {
   "cell_type": "markdown",
   "id": "4bb3da76",
   "metadata": {},
   "source": [
    "## Using Dockerfile\n",
    "\n",
    "This can be solved using a Dockerfile:\n",
    "\n",
    "```Dockerfile\n",
    "FROM python:3.9\n",
    "\n",
    "RUN pip install pandas\n",
    "\n",
    "ENTRYPOINT [ \"bash\" ]\n",
    "```\n",
    "\n",
    "To build the image, run:<br>\n",
    "```docker build -t test:pandas .```<br>\n",
    "docker build -t <\"name of container\">:<\"version\"> <\"location to look for Dockerfile\">\n",
    "\n",
    "To run the image:<br>\n",
    "```docker run -it test:pandas```"
   ]
  },
  {
   "cell_type": "markdown",
   "id": "f13806d3",
   "metadata": {},
   "source": [
    "## Using the Dockerfile and pipeline.py\n",
    "\n",
    "To build the image:<br>\n",
    "```docker build -t test:pandas .```<br>\n",
    "docker build -t <\"name of container\">:<\"version\"> <\"location to look for Dockerfile\">\n",
    "\n",
    "To run the image with argument:<br>\n",
    "```docker run -it test:pandas 2023-12-27```"
   ]
  },
  {
   "cell_type": "markdown",
   "id": "12ebc797",
   "metadata": {},
   "source": []
  }
 ],
 "metadata": {
  "kernelspec": {
   "display_name": "Python 3 (ipykernel)",
   "language": "python",
   "name": "python3"
  },
  "language_info": {
   "codemirror_mode": {
    "name": "ipython",
    "version": 3
   },
   "file_extension": ".py",
   "mimetype": "text/x-python",
   "name": "python",
   "nbconvert_exporter": "python",
   "pygments_lexer": "ipython3",
   "version": "3.12.1"
  }
 },
 "nbformat": 4,
 "nbformat_minor": 5
}
